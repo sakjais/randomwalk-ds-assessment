{
 "cells": [
  {
   "cell_type": "code",
   "execution_count": 2,
   "id": "c74a020a",
   "metadata": {},
   "outputs": [],
   "source": [
    "import numpy as np"
   ]
  },
  {
   "cell_type": "code",
   "execution_count": 3,
   "id": "1aac72d4",
   "metadata": {},
   "outputs": [],
   "source": [
    "import pandas as pd"
   ]
  },
  {
   "cell_type": "code",
   "execution_count": 4,
   "id": "52063fb7",
   "metadata": {},
   "outputs": [],
   "source": [
    "import matplotlib.pyplot as plt"
   ]
  },
  {
   "cell_type": "code",
   "execution_count": 13,
   "id": "130bda32",
   "metadata": {},
   "outputs": [],
   "source": [
    "books_data = pd.read_csv('books.csv')"
   ]
  },
  {
   "cell_type": "code",
   "execution_count": 14,
   "id": "7f1d6f43",
   "metadata": {},
   "outputs": [
    {
     "name": "stdout",
     "output_type": "stream",
     "text": [
      "The dataset has 399 rows and 24 columns.\n"
     ]
    }
   ],
   "source": [
    "# Q1: How many rows and columns are there in books.csv dataset?\n",
    "\n",
    "num_rows, num_columns = dataset.shape\n",
    "print(f'The dataset has {num_rows} rows and {num_columns} columns.')"
   ]
  },
  {
   "cell_type": "code",
   "execution_count": 16,
   "id": "cd1a5a1e",
   "metadata": {},
   "outputs": [
    {
     "name": "stdout",
     "output_type": "stream",
     "text": [
      "Number of books without any original title- 36\n"
     ]
    }
   ],
   "source": [
    "# Q2: How many books do not have an original title?\n",
    "\n",
    "books_without_original_title = books_data['original_title'].isnull().sum()\n",
    "\n",
    "print(f'Number of books without any original title- {b_without_o_t}')"
   ]
  },
  {
   "cell_type": "code",
   "execution_count": 18,
   "id": "aa14978b",
   "metadata": {},
   "outputs": [
    {
     "name": "stdout",
     "output_type": "stream",
     "text": [
      "The number of unique books after removing null values in original_title is: 363\n"
     ]
    }
   ],
   "source": [
    "# Q3: How many unique books are present in the dataset ? Evaluate based on the 'book_id' after removing null values in the original_title column.\n",
    "\n",
    "# removing null values in the original_title column.\n",
    "df_without_null = books_data.dropna(subset=['original_title'])\n",
    "\n",
    "# Count the number of unique books based on 'book_id'\n",
    "unique_books_count = df_without_null['book_id'].nunique()\n",
    "\n",
    "print(f'The number of unique books after removing null values in original_title is: {unique_books_count}')"
   ]
  },
  {
   "cell_type": "code",
   "execution_count": 22,
   "id": "ba51cb89",
   "metadata": {},
   "outputs": [
    {
     "name": "stdout",
     "output_type": "stream",
     "text": [
      "The average rating of all the books in the dataset is:  3.98\n"
     ]
    }
   ],
   "source": [
    "# Q4: What is the average rating of all the books in the dataset based on ‘average_rating’?\n",
    "\n",
    "average_rating = books_data['average_rating'].mean()\n",
    "\n",
    "print(f'The average rating of all the books in the dataset is: {average_rating: .2f}')"
   ]
  },
  {
   "cell_type": "code",
   "execution_count": 30,
   "id": "42969284",
   "metadata": {},
   "outputs": [
    {
     "name": "stdout",
     "output_type": "stream",
     "text": [
      "The number of books published in the year 2000 is: 8\n"
     ]
    }
   ],
   "source": [
    "# Q5: Find the number of books published in the year ‘2000’ based on the ‘original_publication_year’.\n",
    "\n",
    "books_in_2000 = books_data[books_data['original_publication_year'] == 2000]\n",
    "\n",
    "num_books_in_2000 = len(books_in_2000)\n",
    "\n",
    "print(f'The number of books published in the year 2000 is: {num_books_in_2000}')"
   ]
  },
  {
   "cell_type": "code",
   "execution_count": 33,
   "id": "530b49c3",
   "metadata": {},
   "outputs": [
    {
     "name": "stdout",
     "output_type": "stream",
     "text": [
      "The book with the maximum number of ratings is: The Diary of a Young Girl\n"
     ]
    }
   ],
   "source": [
    "# Q6: Which book (title) has the maximum number of ratings based on ‘work_ratings_count’.\n",
    "\n",
    "max_rating_book = books_data.loc[books_data['work_ratings_count'].idxmax(), 'title']\n",
    "\n",
    "print(f'The book with the maximum number of ratings is: {max_rating_book}')"
   ]
  },
  {
   "cell_type": "code",
   "execution_count": 34,
   "id": "4bf3e7b5",
   "metadata": {},
   "outputs": [
    {
     "data": {
      "image/png": "[encoded data removed]",
      "text/plain": [
       "<Figure size 640x480 with 1 Axes>"
      ]
     },
     "metadata": {},
     "output_type": "display_data"
    }
   ],
   "source": [
    "# Q7: Bucket the average_rating of books into 11 buckets [0, 0.5, 1.0, 1.5, 2.0, 2.5, 3.0, 3.5, 4.0, 4.5, 5.0] with 0.5 decimal rounding (eg: average_rating 3.0 to 3.49 will fall in bucket 3.0). Plot bar graph to show total number of books in each rating bucket.\n",
    "\n",
    "\n",
    "avg_rating_buckets = [0, 0.5, 1.0, 1.5, 2.0, 2.5, 3.0, 3.5, 4.0, 4.5, 5.0]\n",
    "\n",
    "# Bucket the average_rating into the defined buckets\n",
    "books_data['rating_bucket'] = pd.cut(books_data['average_rating'], bins=avg_rating_buckets, right=False)\n",
    "\n",
    "# number of books in each rating bucket\n",
    "books_count_per_bucket = books_data['rating_bucket'].value_counts().sort_index()\n",
    "\n",
    "# bar graph\n",
    "plt.bar(books_count_per_bucket.index.astype(str), books_count_per_bucket)\n",
    "\n",
    "# Add labels and title\n",
    "plt.xlabel('Rating Bucket')\n",
    "plt.ylabel('Number of Books')\n",
    "plt.title('Number of Books in Each Rating Bucket')\n",
    "\n",
    "plt.show()"
   ]
  },
  {
   "cell_type": "code",
   "execution_count": null,
   "id": "48f4aa4a",
   "metadata": {},
   "outputs": [],
   "source": []
  }
 ],
 "metadata": {
  "kernelspec": {
   "display_name": "Python 3 (ipykernel)",
   "language": "python",
   "name": "python3"
  },
  "language_info": {
   "codemirror_mode": {
    "name": "ipython",
    "version": 3
   },
   "file_extension": ".py",
   "mimetype": "text/x-python",
   "name": "python",
   "nbconvert_exporter": "python",
   "pygments_lexer": "ipython3",
   "version": "3.11.5"
  }
 },
 "nbformat": 4,
 "nbformat_minor": 5
}
